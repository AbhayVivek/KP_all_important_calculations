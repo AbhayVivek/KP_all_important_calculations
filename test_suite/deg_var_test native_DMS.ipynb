{
 "cells": [
  {
   "cell_type": "code",
   "execution_count": 1,
   "metadata": {},
   "outputs": [],
   "source": [
    "import swisseph as swe\n",
    "from vedicastro.utils import *\n",
    "from vedicastro import VedicAstro as va"
   ]
  },
  {
   "cell_type": "code",
   "execution_count": 2,
   "metadata": {},
   "outputs": [
    {
     "data": {
      "text/html": [
       "<style>.container { width:90% !important; }</style>"
      ],
      "text/plain": [
       "<IPython.core.display.HTML object>"
      ]
     },
     "metadata": {},
     "output_type": "display_data"
    }
   ],
   "source": [
    "from IPython.display import display, HTML\n",
    "display(HTML(\"<style>.container { width:90% !important; }</style>\"))"
   ]
  },
  {
   "cell_type": "code",
   "execution_count": 3,
   "metadata": {},
   "outputs": [],
   "source": [
    "def decimal_to_dms(decimal_deg: float):\n",
    "    signs = ['Aries', 'Taurus', 'Gemini', 'Cancer', 'Leo', 'Virgo', 'Libra', 'Scorpio', 'Sagittarius', 'Capricorn', 'Aquarius', 'Pisces']\n",
    "    degrees = int(decimal_deg)\n",
    "    sign_index = degrees // 30\n",
    "    degrees_in_sign = degrees % 30\n",
    "    minutes = int((decimal_deg - degrees) * 60)\n",
    "    seconds = (decimal_deg - degrees - minutes/60) * 3600.00\n",
    "    return signs[sign_index], f\"{degrees_in_sign:+02}:{minutes:02}:{seconds:02.0f}\""
   ]
  },
  {
   "cell_type": "markdown",
   "metadata": {},
   "source": [
    "### Common `SideReal` Ayanamsas for Vedic Astrology\n",
    "- https://astrorigin.com/pyswisseph/sphinx/ephemerides/sidereal/krishnamurti_ayanamshas.html\n",
    "- https://astrorigin.com/pyswisseph/sphinx/ephemerides/sidereal/spica_citra_tradition_and_lahiri_ayanamsha.html\n"
   ]
  },
  {
   "cell_type": "code",
   "execution_count": 4,
   "metadata": {},
   "outputs": [],
   "source": [
    "SWE_AYANAMSHAS = { \"Krishnamurti_Old\" : swe.SIDM_KRISHNAMURTI, \"Krishnamurti_New\": swe.SIDM_KRISHNAMURTI_VP291,\n",
    "                \"Lahiri_1940\": swe.SIDM_LAHIRI_1940, \"Lahiri_VP285\" : swe.SIDM_LAHIRI_VP285, \n",
    "                \"Lahiri_ICRC\" : swe.SIDM_LAHIRI_ICRC,\n",
    "                }"
   ]
  },
  {
   "cell_type": "code",
   "execution_count": 5,
   "metadata": {},
   "outputs": [],
   "source": [
    "## Case 1\n",
    "# year = 2024\n",
    "# month = 8\n",
    "# day = 14\n",
    "# hour = 22\n",
    "# minute = 31\n",
    "# secs = 31\n",
    "# latitude, longitude, utc = 28.6334, 77.2834, \"+5:30\" ## Delhi"
   ]
  },
  {
   "cell_type": "code",
   "execution_count": 6,
   "metadata": {},
   "outputs": [],
   "source": [
    "## Case 2\n",
    "year = 2000\n",
    "month = 12\n",
    "day = 30\n",
    "hour = 22\n",
    "minute = 31\n",
    "secs = 59\n",
    "latitude, longitude, utc_offset = 28.6334, 77.2834, \"+5:30\" ## Delhi"
   ]
  },
  {
   "cell_type": "code",
   "execution_count": 7,
   "metadata": {},
   "outputs": [],
   "source": [
    "from pytz import timezone\n",
    "zone = \"Asia/Calcutta\"\n",
    "### TIMEZONE INFORMATION\n",
    "tz = timezone(zone)\n",
    "localized_time = tz.localize(datetime(year, month, day, hour, minute, secs))"
   ]
  },
  {
   "cell_type": "markdown",
   "metadata": {},
   "source": [
    "### Results using native `pyswisseph` library\n"
   ]
  },
  {
   "cell_type": "code",
   "execution_count": 8,
   "metadata": {},
   "outputs": [],
   "source": [
    "utc_float =  utc_offset_str_to_float(utc_offset)\n",
    "\n",
    "utc = swe.utc_time_zone(year, month, day, hour = hour, minutes = minute, seconds = secs, offset = utc_float)\n",
    "_ , jd_start = swe.utc_to_jd(*utc) ## Unpacks utc tuple\n",
    "current_time = jd_start"
   ]
  },
  {
   "cell_type": "code",
   "execution_count": 9,
   "metadata": {},
   "outputs": [],
   "source": [
    "import pandas as pd\n",
    "\n",
    "# Assuming SWE_AYANAMSHAS and other necessary imports and variables are already defined\n",
    "\n",
    "results = []  # List to store the results\n",
    "\n",
    "for ayan in list(SWE_AYANAMSHAS.keys()):\n",
    "    swe.set_sid_mode(SWE_AYANAMSHAS.get(ayan))  # Set the ayanamsa based on the current key\n",
    "    cusps, asmc = swe.houses_ex(current_time, latitude, longitude, b'P', flags=swe.FLG_SIDEREAL)\n",
    "    asc = cusps[0]\n",
    "    sign, sign_dms = decimal_to_dms(asc)\n",
    "    results.append({\n",
    "        'Ayanamsa': ayan,\n",
    "        'AscSign': sign,\n",
    "        'AscDecLong': asc,\n",
    "        'AscDMS': sign_dms\n",
    "    })\n",
    "\n",
    "# Convert the list of dictionaries into a pandas DataFrame\n",
    "df_swisseph = pd.DataFrame(results)\n",
    "# df_swisseph"
   ]
  },
  {
   "cell_type": "markdown",
   "metadata": {},
   "source": [
    "### Using the inbuilt `swisseph` function for degree -> DMS conversion"
   ]
  },
  {
   "cell_type": "code",
   "execution_count": 10,
   "metadata": {},
   "outputs": [],
   "source": [
    "import pandas as pd\n",
    "\n",
    "# Assuming SWE_AYANAMSHAS and other necessary imports and variables are already defined\n",
    "\n",
    "results = []  # List to store the results\n",
    "signs = ['Aries', 'Taurus', 'Gemini', 'Cancer', 'Leo', 'Virgo', 'Libra', 'Scorpio', 'Sagittarius', 'Capricorn', 'Aquarius', 'Pisces']\n",
    "\n",
    "for ayan in list(SWE_AYANAMSHAS.keys()):\n",
    "    swe.set_sid_mode(SWE_AYANAMSHAS.get(ayan))  # Set the ayanamsa based on the current key\n",
    "    cusps, asmc = swe.houses_ex(current_time, latitude, longitude, b'P', flags=swe.FLG_SIDEREAL)\n",
    "    asc = cusps[0]\n",
    "    flag = swe.SPLIT_DEG_ZODIACAL \n",
    "    deg, mins, sec, fractional_sec, zodiac = swe.split_deg(asc, flag)\n",
    "    sign = signs[zodiac] \n",
    "    sign_dms = f\"{deg:+02}:{mins:02}:{sec:02.0f}\"\n",
    "    \n",
    "    results.append({\n",
    "        'Ayanamsa': ayan,\n",
    "        'AscSign': sign,\n",
    "        'AscDecLong': asc,\n",
    "        'AscDMS': sign_dms\n",
    "    })\n",
    "\n",
    "# Convert the list of dictionaries into a pandas DataFrame\n",
    "df_swisseph2 = pd.DataFrame(results)\n",
    "# df_swisseph"
   ]
  },
  {
   "cell_type": "markdown",
   "metadata": {},
   "source": [
    "### Results from `VedicAstro` which uses `flatlib`"
   ]
  },
  {
   "cell_type": "code",
   "execution_count": 11,
   "metadata": {},
   "outputs": [],
   "source": [
    "from flatlib import const\n",
    "\n",
    "flatlib_ayanamshas =  [\"Krishnamurti\", \"Lahiri\"]\n",
    "house_system = \"Placidus\"\n",
    "\n",
    "flatlib_results = []\n",
    "for ayan in flatlib_ayanamshas:\n",
    "    vhd = va.VedicHoroscopeData(year = year, month = month, day = day, hour = hour, minute = minute, second = secs, utc = utc_offset, \n",
    "                            latitude = latitude, longitude = longitude, ayanamsa = ayan, house_system = house_system)\n",
    "    chart = vhd.generate_chart()\n",
    "    asc = chart.get(const.ASC)\n",
    "    asc_sign, asc_dms = str(asc).split()[1:]\n",
    "    flatlib_results.append({\"Ayanamsa\" : ayan, \"AscSign\": asc.sign, \"AscDecLong\": asc.lon, \"AscDMS\" : asc_dms[:-1]})"
   ]
  },
  {
   "cell_type": "code",
   "execution_count": 12,
   "metadata": {},
   "outputs": [],
   "source": [
    "df_flatlib = pd.DataFrame(flatlib_results)\n",
    "# df_flatlib"
   ]
  },
  {
   "cell_type": "code",
   "execution_count": 13,
   "metadata": {},
   "outputs": [
    {
     "name": "stdout",
     "output_type": "stream",
     "text": [
      "Asc Results for 2000-12-30 22:31:59+05:30 at Lat:28.6334 | Long: 77.2834\n"
     ]
    },
    {
     "data": {
      "text/html": [
       "\n",
       "<div style='display:flex; justify-content:space-between; flex-direction: column'>\n",
       "    <div style='display:flex;'>\n",
       "        <div style='width: 50%; padding-right: 10px;padding-left: 10px'>\n",
       "            <h2>Swisseph - Asc Results</h2>  <!-- Title for the first DataFrame -->\n",
       "            <table border=\"1\" class=\"dataframe\">\n",
       "  <thead>\n",
       "    <tr style=\"text-align: right;\">\n",
       "      <th></th>\n",
       "      <th>Ayanamsa</th>\n",
       "      <th>AscSign</th>\n",
       "      <th>AscDecLong</th>\n",
       "      <th>AscDMS</th>\n",
       "    </tr>\n",
       "  </thead>\n",
       "  <tbody>\n",
       "    <tr>\n",
       "      <th>0</th>\n",
       "      <td>Krishnamurti_Old</td>\n",
       "      <td>Leo</td>\n",
       "      <td>140.590161</td>\n",
       "      <td>+20:35:25</td>\n",
       "    </tr>\n",
       "    <tr>\n",
       "      <th>1</th>\n",
       "      <td>Krishnamurti_New</td>\n",
       "      <td>Leo</td>\n",
       "      <td>140.570036</td>\n",
       "      <td>+20:34:12</td>\n",
       "    </tr>\n",
       "    <tr>\n",
       "      <th>2</th>\n",
       "      <td>Lahiri_1940</td>\n",
       "      <td>Leo</td>\n",
       "      <td>140.508078</td>\n",
       "      <td>+20:30:29</td>\n",
       "    </tr>\n",
       "    <tr>\n",
       "      <th>3</th>\n",
       "      <td>Lahiri_VP285</td>\n",
       "      <td>Leo</td>\n",
       "      <td>140.486920</td>\n",
       "      <td>+20:29:13</td>\n",
       "    </tr>\n",
       "    <tr>\n",
       "      <th>4</th>\n",
       "      <td>Lahiri_ICRC</td>\n",
       "      <td>Leo</td>\n",
       "      <td>140.493612</td>\n",
       "      <td>+20:29:37</td>\n",
       "    </tr>\n",
       "  </tbody>\n",
       "</table>\n",
       "        </div>\n",
       "        <div style='width: 50%; padding-right: 10px;padding-left: 10px'>\n",
       "            <h2>Swisseph (new dms function) - Asc</h2>  <!-- Title for the third DataFrame -->\n",
       "            <table border=\"1\" class=\"dataframe\">\n",
       "  <thead>\n",
       "    <tr style=\"text-align: right;\">\n",
       "      <th></th>\n",
       "      <th>Ayanamsa</th>\n",
       "      <th>AscSign</th>\n",
       "      <th>AscDecLong</th>\n",
       "      <th>AscDMS</th>\n",
       "    </tr>\n",
       "  </thead>\n",
       "  <tbody>\n",
       "    <tr>\n",
       "      <th>0</th>\n",
       "      <td>Krishnamurti_Old</td>\n",
       "      <td>Leo</td>\n",
       "      <td>140.590161</td>\n",
       "      <td>+20:35:24</td>\n",
       "    </tr>\n",
       "    <tr>\n",
       "      <th>1</th>\n",
       "      <td>Krishnamurti_New</td>\n",
       "      <td>Leo</td>\n",
       "      <td>140.570036</td>\n",
       "      <td>+20:34:12</td>\n",
       "    </tr>\n",
       "    <tr>\n",
       "      <th>2</th>\n",
       "      <td>Lahiri_1940</td>\n",
       "      <td>Leo</td>\n",
       "      <td>140.508078</td>\n",
       "      <td>+20:30:29</td>\n",
       "    </tr>\n",
       "    <tr>\n",
       "      <th>3</th>\n",
       "      <td>Lahiri_VP285</td>\n",
       "      <td>Leo</td>\n",
       "      <td>140.486920</td>\n",
       "      <td>+20:29:12</td>\n",
       "    </tr>\n",
       "    <tr>\n",
       "      <th>4</th>\n",
       "      <td>Lahiri_ICRC</td>\n",
       "      <td>Leo</td>\n",
       "      <td>140.493612</td>\n",
       "      <td>+20:29:37</td>\n",
       "    </tr>\n",
       "  </tbody>\n",
       "</table>\n",
       "        </div>\n",
       "    </div>\n",
       "    <div style='width: 100%;'>\n",
       "        <h2>Flatlib - Asc Results</h2>  <!-- Title for the second DataFrame -->\n",
       "        <table border=\"1\" class=\"dataframe\">\n",
       "  <thead>\n",
       "    <tr style=\"text-align: right;\">\n",
       "      <th></th>\n",
       "      <th>Ayanamsa</th>\n",
       "      <th>AscSign</th>\n",
       "      <th>AscDecLong</th>\n",
       "      <th>AscDMS</th>\n",
       "    </tr>\n",
       "  </thead>\n",
       "  <tbody>\n",
       "    <tr>\n",
       "      <th>0</th>\n",
       "      <td>Krishnamurti</td>\n",
       "      <td>Leo</td>\n",
       "      <td>140.589818</td>\n",
       "      <td>+20:35:23</td>\n",
       "    </tr>\n",
       "    <tr>\n",
       "      <th>1</th>\n",
       "      <td>Lahiri</td>\n",
       "      <td>Leo</td>\n",
       "      <td>140.492966</td>\n",
       "      <td>+20:29:35</td>\n",
       "    </tr>\n",
       "  </tbody>\n",
       "</table>\n",
       "    </div>\n",
       "</div>\n"
      ],
      "text/plain": [
       "<IPython.core.display.HTML object>"
      ]
     },
     "metadata": {},
     "output_type": "display_data"
    }
   ],
   "source": [
    "# Convert DataFrames to HTML and concatenate them with some space in between\n",
    "df1_html = df_swisseph.to_html()\n",
    "df2_html = df_flatlib.to_html()\n",
    "df3_html = df_swisseph2.to_html()\n",
    "\n",
    "# Titles for each DataFrame\n",
    "title1 = \"Swisseph - Asc Results\"\n",
    "title2 = \"Flatlib - Asc Results\"\n",
    "title3 = \"Swisseph (new dms function) - Asc\"\n",
    "\n",
    "# Display them side by side with titles using HTML display with formatted string\n",
    "html = f\"\"\"\n",
    "<div style='display:flex; justify-content:space-between; flex-direction: column'>\n",
    "    <div style='display:flex;'>\n",
    "        <div style='width: 50%; padding-right: 10px;padding-left: 10px'>\n",
    "            <h2>{title1}</h2>  <!-- Title for the first DataFrame -->\n",
    "            {df1_html}\n",
    "        </div>\n",
    "        <div style='width: 50%; padding-right: 10px;padding-left: 10px'>\n",
    "            <h2>{title3}</h2>  <!-- Title for the third DataFrame -->\n",
    "            {df3_html}\n",
    "        </div>\n",
    "    </div>\n",
    "    <div style='width: 100%;'>\n",
    "        <h2>{title2}</h2>  <!-- Title for the second DataFrame -->\n",
    "        {df2_html}\n",
    "    </div>\n",
    "</div>\n",
    "\"\"\"\n",
    "print(f\"Asc Results for {localized_time} at Lat:{latitude} | Long: {longitude}\")\n",
    "display(HTML(html))"
   ]
  },
  {
   "cell_type": "code",
   "execution_count": null,
   "metadata": {},
   "outputs": [],
   "source": []
  }
 ],
 "metadata": {
  "kernelspec": {
   "display_name": "astro",
   "language": "python",
   "name": "python3"
  },
  "language_info": {
   "codemirror_mode": {
    "name": "ipython",
    "version": 3
   },
   "file_extension": ".py",
   "mimetype": "text/x-python",
   "name": "python",
   "nbconvert_exporter": "python",
   "pygments_lexer": "ipython3",
   "version": "3.11.2"
  }
 },
 "nbformat": 4,
 "nbformat_minor": 2
}
